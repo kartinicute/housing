{
  "nbformat": 4,
  "nbformat_minor": 0,
  "metadata": {
    "colab": {
      "name": "housing.ipynb",
      "provenance": [],
      "private_outputs": true,
      "include_colab_link": true
    },
    "kernelspec": {
      "name": "python3",
      "display_name": "Python 3"
    },
    "accelerator": "GPU"
  },
  "cells": [
    {
      "cell_type": "markdown",
      "metadata": {
        "id": "view-in-github",
        "colab_type": "text"
      },
      "source": [
        "<a href=\"https://colab.research.google.com/github/kartinicute/housing/blob/master/housing.ipynb\" target=\"_parent\"><img src=\"https://colab.research.google.com/assets/colab-badge.svg\" alt=\"Open In Colab\"/></a>"
      ]
    },
    {
      "cell_type": "code",
      "metadata": {
        "id": "XzaoGoZPb8Iq",
        "colab_type": "code",
        "colab": {}
      },
      "source": [
        "import numpy as np\n",
        "import pandas as pd\n",
        "from sklearn import datasets\n",
        "import seaborn as sns\n",
        "from sklearn.feature_selection import RFE\n",
        "from sklearn.model_selection import train_test_split\n",
        "from sklearn.model_selection import cross_val_score\n",
        "from sklearn.model_selection import KFold\n",
        "from sklearn.pipeline import Pipeline\n",
        "from sklearn.preprocessing import StandardScaler\n",
        "import matplotlib.pyplot as plt"
      ],
      "execution_count": 0,
      "outputs": []
    },
    {
      "cell_type": "code",
      "metadata": {
        "id": "EteEyG22b-kh",
        "colab_type": "code",
        "colab": {}
      },
      "source": [
        "from google.colab import files\n",
        "data = files.upload()"
      ],
      "execution_count": 0,
      "outputs": []
    },
    {
      "cell_type": "code",
      "metadata": {
        "colab_type": "code",
        "id": "SVLzdo_UffLn",
        "colab": {}
      },
      "source": [
        "data = pd.read_csv('kc_house_data.csv')\n",
        "data.head()"
      ],
      "execution_count": 0,
      "outputs": []
    },
    {
      "cell_type": "code",
      "metadata": {
        "id": "wAiBfRkJcKlu",
        "colab_type": "code",
        "colab": {}
      },
      "source": [
        "print(data.shape)"
      ],
      "execution_count": 0,
      "outputs": []
    },
    {
      "cell_type": "code",
      "metadata": {
        "id": "OMYzHySCcRm3",
        "colab_type": "code",
        "colab": {}
      },
      "source": [
        "print(data.isnull().any())"
      ],
      "execution_count": 0,
      "outputs": []
    },
    {
      "cell_type": "code",
      "metadata": {
        "id": "hSS4N2W9cTMG",
        "colab_type": "code",
        "colab": {}
      },
      "source": [
        "print(data.dtypes)"
      ],
      "execution_count": 0,
      "outputs": []
    },
    {
      "cell_type": "code",
      "metadata": {
        "id": "xF9Pfvv9cU9_",
        "colab_type": "code",
        "colab": {}
      },
      "source": [
        "data['date'] = pd.to_datetime(data['date'])\n",
        "data = data.set_index('id')\n",
        "data.price = data.price.astype(int)\n",
        "data.bathrooms = data.bathrooms.astype(int)\n",
        "data.floors = data.floors.astype(int)\n",
        "data.head(5)"
      ],
      "execution_count": 0,
      "outputs": []
    },
    {
      "cell_type": "code",
      "metadata": {
        "id": "LNxyJigBhUbw",
        "colab_type": "code",
        "colab": {}
      },
      "source": [
        "import matplotlib.pyplot as plt\n",
        "datetime = data.iloc[0,2:3].values\n",
        "houseprice = data.iloc[0,3:4].values\n",
        "plt.scatter(datetime, houseprice)"
      ],
      "execution_count": 0,
      "outputs": []
    },
    {
      "cell_type": "code",
      "metadata": {
        "id": "YpP31NtvcXBl",
        "colab_type": "code",
        "colab": {}
      },
      "source": [
        "data[\"house_age\"] = data[\"date\"].dt.year - data['yr_built']\n",
        "data['renovated'] = data['yr_renovated'].apply(lambda yr: 0 if yr == 0 else 1)\n",
        "\n",
        "data=data.drop('date', axis=1)\n",
        "data=data.drop('yr_renovated', axis=1)\n",
        "data=data.drop('yr_built', axis=1)\n",
        "data.head(5)"
      ],
      "execution_count": 0,
      "outputs": []
    },
    {
      "cell_type": "code",
      "metadata": {
        "id": "uXrTnJ1QcZwF",
        "colab_type": "code",
        "colab": {}
      },
      "source": [
        "pd.set_option('precision', 2)\n",
        "print(data.describe())"
      ],
      "execution_count": 0,
      "outputs": []
    },
    {
      "cell_type": "code",
      "metadata": {
        "id": "iV7_RiGygPl8",
        "colab_type": "code",
        "colab": {}
      },
      "source": [
        "correlation = data.corr(method='pearson')\n",
        "columns = correlation.nlargest(10, 'price').index\n",
        "columns"
      ],
      "execution_count": 0,
      "outputs": []
    },
    {
      "cell_type": "code",
      "metadata": {
        "id": "sAyYrXDhgRdP",
        "colab_type": "code",
        "colab": {}
      },
      "source": [
        "correlation_map = np.corrcoef(data[columns].values.T)\n",
        "sns.set(font_scale=1.0)\n",
        "heatmap = sns.heatmap(correlation_map, cbar=True, annot=True, square=True, fmt='.2f', yticklabels=columns.values, xticklabels=columns.values)\n",
        "\n",
        "plt.show()"
      ],
      "execution_count": 0,
      "outputs": []
    },
    {
      "cell_type": "code",
      "metadata": {
        "id": "HMpu5rtcgXEC",
        "colab_type": "code",
        "colab": {}
      },
      "source": [
        "data['price'] = np.log(data['price'])\n",
        "data['sqft_living'] = np.log(data['sqft_living'])"
      ],
      "execution_count": 0,
      "outputs": []
    },
    {
      "cell_type": "code",
      "metadata": {
        "id": "FiG_q8_LgYl3",
        "colab_type": "code",
        "colab": {}
      },
      "source": [
        "X = data[columns]\n",
        "Y = X['price'].values\n",
        "X = X.drop('price', axis = 1).values"
      ],
      "execution_count": 0,
      "outputs": []
    },
    {
      "cell_type": "code",
      "metadata": {
        "id": "ug_w0W0Ygah6",
        "colab_type": "code",
        "colab": {}
      },
      "source": [
        "X_train, X_test, Y_train, Y_test = train_test_split (X, Y, test_size = 0.20, random_state=42)"
      ],
      "execution_count": 0,
      "outputs": []
    },
    {
      "cell_type": "code",
      "metadata": {
        "id": "FWV6mALfgbLL",
        "colab_type": "code",
        "colab": {}
      },
      "source": [
        "from sklearn.linear_model import LinearRegression\n",
        "from sklearn.linear_model import Lasso\n",
        "from sklearn.linear_model import ElasticNet\n",
        "from sklearn.tree import DecisionTreeRegressor\n",
        "from sklearn.neighbors import KNeighborsRegressor\n",
        "from sklearn.ensemble import GradientBoostingRegressor"
      ],
      "execution_count": 0,
      "outputs": []
    },
    {
      "cell_type": "code",
      "metadata": {
        "id": "acjMHixLgbSh",
        "colab_type": "code",
        "colab": {}
      },
      "source": [
        "pipelines = []\n",
        "pipelines.append(('ScaledLR', Pipeline([('Scaler', StandardScaler()),('LR',LinearRegression())])))\n",
        "pipelines.append(('ScaledLASSO', Pipeline([('Scaler', StandardScaler()),('LASSO', Lasso())])))\n",
        "pipelines.append(('ScaledEN', Pipeline([('Scaler', StandardScaler()),('EN', ElasticNet())])))\n",
        "pipelines.append(('ScaledKNN', Pipeline([('Scaler', StandardScaler()),('KNN', KNeighborsRegressor())])))\n",
        "pipelines.append(('ScaledCART', Pipeline([('Scaler', StandardScaler()),('CART', DecisionTreeRegressor())])))\n",
        "pipelines.append(('ScaledGBM', Pipeline([('Scaler', StandardScaler()),('GBM', GradientBoostingRegressor())])))"
      ],
      "execution_count": 0,
      "outputs": []
    },
    {
      "cell_type": "code",
      "metadata": {
        "id": "YKacXulHgews",
        "colab_type": "code",
        "colab": {}
      },
      "source": [
        "from sklearn.metrics import mean_squared_error\n",
        "\n",
        "scaler = StandardScaler().fit(X_train)\n",
        "rescaled_X_train = scaler.transform(X_train)\n",
        "model = GradientBoostingRegressor(random_state=21, n_estimators=400)\n",
        "model.fit(rescaled_X_train, Y_train)\n",
        "\n",
        "# transform the validation dataset\n",
        "rescaled_X_test = scaler.transform(X_test)\n",
        "predictions = model.predict(rescaled_X_test)\n",
        "print (mean_squared_error(Y_test, predictions))"
      ],
      "execution_count": 0,
      "outputs": []
    },
    {
      "cell_type": "code",
      "metadata": {
        "id": "lFM4rncagoLZ",
        "colab_type": "code",
        "colab": {}
      },
      "source": [
        "compare = pd.DataFrame({'Prediction': predictions, 'Test Data' : Y_test})\n",
        "compare.head(10)"
      ],
      "execution_count": 0,
      "outputs": []
    },
    {
      "cell_type": "code",
      "metadata": {
        "id": "nPLj6QZEgo4K",
        "colab_type": "code",
        "colab": {}
      },
      "source": [
        "actual_y_test = np.exp(Y_test)\n",
        "actual_predicted = np.exp(predictions)\n",
        "diff = abs(actual_y_test - actual_predicted)\n",
        "\n",
        "compare_actual = pd.DataFrame({'Test Data': actual_y_test, 'Predicted Price' : actual_predicted, 'Difference' : diff})\n",
        "compare_actual = compare_actual.astype(int)\n",
        "compare_actual.head(5)"
      ],
      "execution_count": 0,
      "outputs": []
    }
  ]
}